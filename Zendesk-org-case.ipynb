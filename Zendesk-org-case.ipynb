{
 "cells": [
  {
   "cell_type": "code",
   "execution_count": null,
   "metadata": {},
   "outputs": [],
   "source": [
    "# Objective:\n",
    "# To perform Analysis on the number of cases created in zendesk in last two weeks"
   ]
  },
  {
   "cell_type": "code",
   "execution_count": 32,
   "metadata": {},
   "outputs": [],
   "source": [
    "# I was planning to use ticket.json endpoint, however this endpoint does not include query parameters to limit the search. \n",
    "# Need to use search api instead"
   ]
  },
  {
   "cell_type": "code",
   "execution_count": 224,
   "metadata": {},
   "outputs": [],
   "source": [
    "#from urllib.parse import urlencode\n",
    "try: # For python2\n",
    "    import urlparse\n",
    "    from urllib import urlencode\n",
    "except: # For Python 3\n",
    "    import urllib.parse as urlparse\n",
    "    from urllib.parse import urlencode\n",
    "import requests\n",
    "import pandas as pd\n",
    "import matplotlib.pyplot as plt"
   ]
  },
  {
   "cell_type": "code",
   "execution_count": 225,
   "metadata": {},
   "outputs": [],
   "source": [
    "# Section to add the variables\n",
    "#Define Variables\n",
    "\n",
    "zd_addr=\"<Domain Name>.zendesk.com\"\n",
    "\n",
    "zd_user_token=\"XXXXXXXXXXXXXXXXXXXXXXX\"\n",
    "\n",
    "zd_user='<Email ID>'  + '/token'  # Format for user name with Token required by zendesk\n",
    "day=14 # Number of days for which we need report\n",
    "org='<Org name>' # Organization for which we need to generate report"
   ]
  },
  {
   "cell_type": "code",
   "execution_count": 226,
   "metadata": {},
   "outputs": [],
   "source": [
    "#Start and End date to plot the graph\n",
    "start_dt=(date.today() - datetime.timedelta(days=day)).strftime(\"%Y-%m-%d\")\n",
    "end_dt=date.today().strftime(\"%Y-%m-%d\")\n",
    "\n",
    "params = {    \n",
    "    'query': 'type:ticket organization:'+org+' created>'+start_dt +' created<'+end_dt,\n",
    "    'sort_by': 'created_at',\n",
    "    'sort_order': 'desc',        # from oldest to newest\n",
    "}\n",
    "\n",
    "\n",
    "url = 'https://'+zd_addr+'/api/v2/search.json?' + urlencode(params)"
   ]
  },
  {
   "cell_type": "code",
   "execution_count": 227,
   "metadata": {},
   "outputs": [],
   "source": [
    "response = requests.get(url, auth=(zd_user, zd_user_token))\n",
    "\n",
    "if response.status_code != 200:\n",
    "    print('Status:', response.status_code, 'Problem with the request. Exiting.')    \n",
    "    exit()\n",
    "# Print the subject of each ticket in the results\n",
    "\n",
    "data = response.json()\n",
    "df = pd.DataFrame(columns=['create_date']) # To store the data in df DataFrame for plotting later \n",
    "for result in data['results']:\n",
    "    dt=pd.to_datetime(result['created_at'],format=\"%Y-%m-%d\").date() # Convert string to datetime object\n",
    "    row = pd.DataFrame({'create_date':[dt]}) # Convert datetime object in DataFrame\n",
    "    df=pd.concat([df, row], axis=0,ignore_index=True) # Append row dataframe to df dataframe"
   ]
  },
  {
   "cell_type": "code",
   "execution_count": 228,
   "metadata": {},
   "outputs": [
    {
     "data": {
      "text/plain": [
       "<matplotlib.axes._subplots.AxesSubplot at 0x7fe5d8ba3810>"
      ]
     },
     "execution_count": 228,
     "metadata": {},
     "output_type": "execute_result"
    },
    {
     "data": {
      "image/png": "[encoded data removed]",
      "text/plain": [
       "<Figure size 432x288 with 1 Axes>"
      ]
     },
     "metadata": {
      "needs_background": "light"
     },
     "output_type": "display_data"
    }
   ],
   "source": [
    "#Bar graph of Case reported\n",
    "df_gb = df.groupby(['create_date']).size()\n",
    "df_gb.plot(kind = 'bar')"
   ]
  },
  {
   "cell_type": "code",
   "execution_count": 229,
   "metadata": {},
   "outputs": [],
   "source": [
    "# Capture data in DataFrame\n",
    "cases_df=pd.DataFrame(columns=['id','priority','created_date','subject','environment','case_status'])\n",
    "for i in range(0,data['count']):\n",
    "    cases_df.loc[len(cases_df.index)] = [data['results'][i]['id'],data['results'][i]['priority'],data['results'][i]['created_at'],data['results'][i]['raw_subject'],data['results'][i]['custom_fields'][1]['value'],data['results'][i]['status']] \n",
    "cases_df\n",
    "cases_df['subject']='XXXXXXXXXX' #Masking the data for demo\n",
    "cases_df['created_date']='YYYYYYYY' #Masking the data for demo"
   ]
  },
  {
   "cell_type": "code",
   "execution_count": 230,
   "metadata": {},
   "outputs": [
    {
     "data": {
      "text/html": [
       "<div>\n",
       "<style scoped>\n",
       "    .dataframe tbody tr th:only-of-type {\n",
       "        vertical-align: middle;\n",
       "    }\n",
       "\n",
       "    .dataframe tbody tr th {\n",
       "        vertical-align: top;\n",
       "    }\n",
       "\n",
       "    .dataframe thead th {\n",
       "        text-align: right;\n",
       "    }\n",
       "</style>\n",
       "<table border=\"1\" class=\"dataframe\">\n",
       "  <thead>\n",
       "    <tr style=\"text-align: right;\">\n",
       "      <th></th>\n",
       "      <th>id</th>\n",
       "      <th>priority</th>\n",
       "      <th>created_date</th>\n",
       "      <th>subject</th>\n",
       "      <th>environment</th>\n",
       "      <th>case_status</th>\n",
       "    </tr>\n",
       "  </thead>\n",
       "  <tbody>\n",
       "    <tr>\n",
       "      <th>0</th>\n",
       "      <td>5714</td>\n",
       "      <td>high</td>\n",
       "      <td>YYYYYYYY</td>\n",
       "      <td>XXXXXXXXXX</td>\n",
       "      <td>prod</td>\n",
       "      <td>solved</td>\n",
       "    </tr>\n",
       "    <tr>\n",
       "      <th>2</th>\n",
       "      <td>5669</td>\n",
       "      <td>urgent</td>\n",
       "      <td>YYYYYYYY</td>\n",
       "      <td>XXXXXXXXXX</td>\n",
       "      <td>prod</td>\n",
       "      <td>pending</td>\n",
       "    </tr>\n",
       "    <tr>\n",
       "      <th>3</th>\n",
       "      <td>5658</td>\n",
       "      <td>normal</td>\n",
       "      <td>YYYYYYYY</td>\n",
       "      <td>XXXXXXXXXX</td>\n",
       "      <td>prod</td>\n",
       "      <td>solved</td>\n",
       "    </tr>\n",
       "    <tr>\n",
       "      <th>6</th>\n",
       "      <td>5653</td>\n",
       "      <td>high</td>\n",
       "      <td>YYYYYYYY</td>\n",
       "      <td>XXXXXXXXXX</td>\n",
       "      <td>prod</td>\n",
       "      <td>open</td>\n",
       "    </tr>\n",
       "    <tr>\n",
       "      <th>8</th>\n",
       "      <td>5648</td>\n",
       "      <td>normal</td>\n",
       "      <td>YYYYYYYY</td>\n",
       "      <td>XXXXXXXXXX</td>\n",
       "      <td>prod</td>\n",
       "      <td>pending</td>\n",
       "    </tr>\n",
       "    <tr>\n",
       "      <th>10</th>\n",
       "      <td>5642</td>\n",
       "      <td>high</td>\n",
       "      <td>YYYYYYYY</td>\n",
       "      <td>XXXXXXXXXX</td>\n",
       "      <td>prod</td>\n",
       "      <td>solved</td>\n",
       "    </tr>\n",
       "    <tr>\n",
       "      <th>14</th>\n",
       "      <td>5620</td>\n",
       "      <td>high</td>\n",
       "      <td>YYYYYYYY</td>\n",
       "      <td>XXXXXXXXXX</td>\n",
       "      <td>prod</td>\n",
       "      <td>pending</td>\n",
       "    </tr>\n",
       "    <tr>\n",
       "      <th>17</th>\n",
       "      <td>5556</td>\n",
       "      <td>high</td>\n",
       "      <td>YYYYYYYY</td>\n",
       "      <td>XXXXXXXXXX</td>\n",
       "      <td>prod</td>\n",
       "      <td>solved</td>\n",
       "    </tr>\n",
       "    <tr>\n",
       "      <th>18</th>\n",
       "      <td>5551</td>\n",
       "      <td>urgent</td>\n",
       "      <td>YYYYYYYY</td>\n",
       "      <td>XXXXXXXXXX</td>\n",
       "      <td>prod</td>\n",
       "      <td>closed</td>\n",
       "    </tr>\n",
       "  </tbody>\n",
       "</table>\n",
       "</div>"
      ],
      "text/plain": [
       "      id priority created_date     subject environment case_status\n",
       "0   5714     high     YYYYYYYY  XXXXXXXXXX        prod      solved\n",
       "2   5669   urgent     YYYYYYYY  XXXXXXXXXX        prod     pending\n",
       "3   5658   normal     YYYYYYYY  XXXXXXXXXX        prod      solved\n",
       "6   5653     high     YYYYYYYY  XXXXXXXXXX        prod        open\n",
       "8   5648   normal     YYYYYYYY  XXXXXXXXXX        prod     pending\n",
       "10  5642     high     YYYYYYYY  XXXXXXXXXX        prod      solved\n",
       "14  5620     high     YYYYYYYY  XXXXXXXXXX        prod     pending\n",
       "17  5556     high     YYYYYYYY  XXXXXXXXXX        prod      solved\n",
       "18  5551   urgent     YYYYYYYY  XXXXXXXXXX        prod      closed"
      ]
     },
     "execution_count": 230,
     "metadata": {},
     "output_type": "execute_result"
    }
   ],
   "source": [
    "cases_df[cases_df['environment']=='prod']"
   ]
  },
  {
   "cell_type": "code",
   "execution_count": 231,
   "metadata": {},
   "outputs": [
    {
     "name": "stdout",
     "output_type": "stream",
     "text": [
      "Total number of case  19\n"
     ]
    }
   ],
   "source": [
    "print (\"Total number of case  \"+ str(len(cases_df)))"
   ]
  }
 ],
 "metadata": {
  "kernelspec": {
   "display_name": "Python 2",
   "language": "python",
   "name": "python2"
  },
  "language_info": {
   "codemirror_mode": {
    "name": "ipython",
    "version": 2
   },
   "file_extension": ".py",
   "mimetype": "text/x-python",
   "name": "python",
   "nbconvert_exporter": "python",
   "pygments_lexer": "ipython2",
   "version": "2.7.18"
  }
 },
 "nbformat": 4,
 "nbformat_minor": 2
}

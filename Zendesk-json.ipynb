{
 "cells": [
  {
   "cell_type": "raw",
   "metadata": {},
   "source": [
    "# Objective:\n",
    "# To bulk import data from zendesk, and store json data in local database for analysis"
   ]
  },
  {
   "cell_type": "raw",
   "metadata": {},
   "source": [
    "# curl command for bulk download. This is just for reference and not used anywhere\n",
    "#!curl https://yugabyte.zendesk.com/api/v2/tickets.json \\  -v -u kmaheshwari@yugabyte.com/token:XXXXXXXXXXXXXXXX"
   ]
  },
  {
   "cell_type": "raw",
   "metadata": {},
   "source": [
    "# Pre-req\n",
    "Create a database \"zendesk_db\" to store the data\n",
    "Gather user and Token / password for connecting to Zendesk"
   ]
  },
  {
   "cell_type": "code",
   "execution_count": 148,
   "metadata": {},
   "outputs": [],
   "source": [
    "import json\n",
    "import psycopg2\n",
    "import requests\n",
    "import time"
   ]
  },
  {
   "cell_type": "code",
   "execution_count": 149,
   "metadata": {},
   "outputs": [],
   "source": [
    "#Define Variables\n",
    "\n",
    "# Replace domain_name with your zendesk domain name\n",
    "zd_addr=\"<domain_name>.zendesk.com\"\n",
    "zd_addr=\"yugabyte.zendesk.com\"\n",
    "\n",
    "zd_user_token=\"XXXXXXXXXXXXXXXX\"\n",
    "zd_user_token=\"XtqGMUzMfHZP9vBv0J4CWWM1989zvQfVeXyKkgqi\"\n",
    "\n",
    "user='kmaheshwari@yugabyte.com'  + '/token'\n",
    "# Format for user name required by zendesk\n",
    "\n",
    "count=1\n",
    "#How many cases information to pull from zendesk"
   ]
  },
  {
   "cell_type": "code",
   "execution_count": 150,
   "metadata": {},
   "outputs": [],
   "source": [
    "#Make a connection to the database\n",
    "\n",
    "## Repalce your API Token\n",
    "headers = {\n",
    "    'Content-Type': \"application/json\",\n",
    "    'TOKEN': zd_user_token\n",
    "    }\n",
    "\n",
    "base_url=\"https://\"+zd_addr+\"/api/v2/tickets.json\" + \"?per_page=1\""
   ]
  },
  {
   "cell_type": "code",
   "execution_count": 151,
   "metadata": {},
   "outputs": [],
   "source": [
    "yb_db_addr=\"127.0.0.1\"\n",
    "yb_stats_db=\"zendesk_db\"\n",
    "yb_db_port=\"5433\"\n",
    "yb_db_user=\"yugabyte\"\n",
    "yb_db_password=\"\"\n",
    "yb_db_ssl_path=\"\""
   ]
  },
  {
   "cell_type": "code",
   "execution_count": 152,
   "metadata": {},
   "outputs": [],
   "source": [
    "try:\n",
    "# Connect to your postgres DB\n",
    "    conn = psycopg2.connect(dbname=yb_stats_db,host=yb_db_addr,port=yb_db_port,user=yb_db_user)\n",
    "\n",
    "# Open a cursor to perform database operations\n",
    "    cur = conn.cursor()\n",
    "except Exception as err:\n",
    "    print (\"Oops! An exception has occured:\", error)\n",
    "    print (\"Exception TYPE:\", type(error))"
   ]
  },
  {
   "cell_type": "code",
   "execution_count": null,
   "metadata": {},
   "outputs": [
    {
     "name": "stdout",
     "output_type": "stream",
     "text": [
      "https://yugabyte.zendesk.com/api/v2/tickets.json?page=2&per_page=1\n"
     ]
    }
   ],
   "source": [
    "insert_sql=\"insert into ticket1(data) values (%s)\"\n",
    "url=base_url\n",
    "while True:\n",
    "    response = requests.get(url, auth=(user, zd_user_token))\n",
    "    data= response.json()\n",
    "    dst=json.dumps(data)\n",
    "    cur.execute(insert_sql,(dst,))\n",
    "    conn.commit()\n",
    "    url=data['next_page']\n",
    "    print(url)\n",
    "    if (data['next_page'] is None):\n",
    "        print(\"Next page is null\")\n",
    "        print(data['next_page'])\n",
    "        break\n",
    "\n",
    "    #How many cases information to pull from zendesk. By default, setting the counter to 2 \n",
    "    count=count+1\n",
    "    if count > 2:\n",
    "        break\n",
    "    \n",
    "    # Sleep 1 second to avoid hitting API Rate throttling from zendesk\n",
    "    time.sleep(1)"
   ]
  },
  {
   "cell_type": "code",
   "execution_count": null,
   "metadata": {},
   "outputs": [],
   "source": [
    "# Retrieve data from the table\n",
    "select_sql=\"select data -> 'tickets' -> 0 -> 'id' as Case_no, data -> 'tickets' -> 0 -> 'url' AS Current_URL, data -> 'tickets' -> 0 -> 'via' -> 'channel' AS channel, data -> 'next_page' AS \\\"next page\\\" from ticket1\"\n",
    "cur.execute(select_sql)\n",
    "result = cur.fetchall()\n",
    "\n",
    "for i in range(len(result)):\n",
    "    print(result[i])"
   ]
  },
  {
   "cell_type": "code",
   "execution_count": null,
   "metadata": {},
   "outputs": [],
   "source": [
    "# Total number of rows in table\n",
    "select_sql=\"select count(*) from ticket1\"\n",
    "cur.execute(select_sql)\n",
    "result = cur.fetchone()\n",
    "print(\"Total number of rows: \" + str(result[0]))"
   ]
  },
  {
   "cell_type": "code",
   "execution_count": 147,
   "metadata": {},
   "outputs": [],
   "source": [
    "cur.close()"
   ]
  },
  {
   "cell_type": "code",
   "execution_count": null,
   "metadata": {},
   "outputs": [],
   "source": []
  }
 ],
 "metadata": {
  "kernelspec": {
   "display_name": "Python 3 (ipykernel)",
   "language": "python",
   "name": "python3"
  },
  "language_info": {
   "codemirror_mode": {
    "name": "ipython",
    "version": 3
   },
   "file_extension": ".py",
   "mimetype": "text/x-python",
   "name": "python",
   "nbconvert_exporter": "python",
   "pygments_lexer": "ipython3",
   "version": "3.9.14"
  }
 },
 "nbformat": 4,
 "nbformat_minor": 2
}

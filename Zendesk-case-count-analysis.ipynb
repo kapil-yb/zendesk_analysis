{
 "cells": [
  {
   "cell_type": "code",
   "execution_count": null,
   "metadata": {},
   "outputs": [],
   "source": [
    "# Objective:\n",
    "# To perform Analysis on the number of cases created in zendesk in last few months"
   ]
  },
  {
   "cell_type": "code",
   "execution_count": 32,
   "metadata": {},
   "outputs": [],
   "source": [
    "# I was planning to use ticket.json endpoint, however this endpoint does not include query parameters to limit the search. \n",
    "# Need to use search api instead"
   ]
  },
  {
   "cell_type": "code",
   "execution_count": 33,
   "metadata": {},
   "outputs": [],
   "source": [
    "#from urllib.parse import urlencode\n",
    "try: # For python2\n",
    "    import urlparse\n",
    "    from urllib import urlencode\n",
    "except: # For Python 3\n",
    "    import urllib.parse as urlparse\n",
    "    from urllib.parse import urlencode\n",
    "import requests\n",
    "import pandas as pd\n",
    "import matplotlib.pyplot as plt"
   ]
  },
  {
   "cell_type": "code",
   "execution_count": 34,
   "metadata": {},
   "outputs": [],
   "source": [
    "# Section to add the variables\n",
    "zd_addr=\"<Domain Name>.zendesk.com\"\n",
    "zd_user='<User name / Email-ID>'  + '/token'\n",
    "zd_user_token=\"<Token>\"\n",
    "\n",
    "#Start and End date to plot the graph\n",
    "start_dt='2023-02-01'\n",
    "end_dt='2023-02-016'"
   ]
  },
  {
   "cell_type": "code",
   "execution_count": 36,
   "metadata": {},
   "outputs": [],
   "source": [
    "params = {    \n",
    "    'query': 'type:ticket status:open created>'+start_dt +' created<'+end_dt,\n",
    "    'sort_by': 'created_at',\n",
    "    'sort_order': 'desc',        # from oldest to newest\n",
    "}\n",
    "\n",
    "\n",
    "url = 'https://'+zd_addr+'/api/v2/search.json?' + urlencode(params)"
   ]
  },
  {
   "cell_type": "code",
   "execution_count": 37,
   "metadata": {},
   "outputs": [],
   "source": [
    "response = requests.get(url, auth=(zd_user, zd_user_token))\n",
    "\n",
    "if response.status_code != 200:\n",
    "    print('Status:', response.status_code, 'Problem with the request. Exiting.')    \n",
    "    exit()\n",
    "# Print the subject of each ticket in the results\n",
    "\n",
    "data = response.json()\n",
    "df = pd.DataFrame(columns=['create_date']) # To store the data in df DataFrame for plotting later \n",
    "for result in data['results']:\n",
    "    dt=pd.to_datetime(result['created_at'],format=\"%Y-%m-%d\").date() # Convert string to datetime object\n",
    "    row = pd.DataFrame({'create_date':[dt]}) # Convert datetime object in DataFrame\n",
    "    df=pd.concat([df, row], axis=0,ignore_index=True) # Append row dataframe to df dataframe"
   ]
  },
  {
   "cell_type": "code",
   "execution_count": 38,
   "metadata": {},
   "outputs": [
    {
     "data": {
      "text/plain": [
       "<matplotlib.axes._subplots.AxesSubplot at 0x7f84c93531d0>"
      ]
     },
     "execution_count": 38,
     "metadata": {},
     "output_type": "execute_result"
    },
    {
     "data": {
      "image/png": "[encoded data removed]",
      "text/plain": [
       "<Figure size 432x288 with 1 Axes>"
      ]
     },
     "metadata": {
      "needs_background": "light"
     },
     "output_type": "display_data"
    }
   ],
   "source": [
    "df_gb = df.groupby(['create_date']).size()\n",
    "df_gb.plot(kind = 'bar')"
   ]
  },
  {
   "cell_type": "code",
   "execution_count": null,
   "metadata": {},
   "outputs": [],
   "source": []
  }
 ],
 "metadata": {
  "kernelspec": {
   "display_name": "Python 2",
   "language": "python",
   "name": "python2"
  },
  "language_info": {
   "codemirror_mode": {
    "name": "ipython",
    "version": 2
   },
   "file_extension": ".py",
   "mimetype": "text/x-python",
   "name": "python",
   "nbconvert_exporter": "python",
   "pygments_lexer": "ipython2",
   "version": "2.7.18"
  }
 },
 "nbformat": 4,
 "nbformat_minor": 2
}

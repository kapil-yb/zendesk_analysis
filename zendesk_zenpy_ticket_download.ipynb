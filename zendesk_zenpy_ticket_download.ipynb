{
 "cells": [
  {
   "cell_type": "code",
   "execution_count": 160,
   "metadata": {},
   "outputs": [],
   "source": [
    "from zenpy import Zenpy\n",
    "from datetime import datetime\n",
    "import datetime as dt"
   ]
  },
  {
   "cell_type": "code",
   "execution_count": 161,
   "metadata": {},
   "outputs": [],
   "source": [
    "creds = {\n",
    "    'email' : 'kmaheshwari@y.com',\n",
    "    'token' : 'XXXXXXXXXXXXXXXXXXXXXXXXXXXXXXXXX',\n",
    "    'subdomain': '<<Your zendesk domain>>'\n",
    "}"
   ]
  },
  {
   "cell_type": "code",
   "execution_count": 162,
   "metadata": {},
   "outputs": [],
   "source": [
    "# Create a Zenpy instance\n",
    "zenpy_client = Zenpy(**creds)"
   ]
  },
  {
   "cell_type": "code",
   "execution_count": 163,
   "metadata": {},
   "outputs": [
    {
     "name": "stdout",
     "output_type": "stream",
     "text": [
      "Currently open Case count: 275\n"
     ]
    }
   ],
   "source": [
    "case_count=0\n",
    "for ticket in zenpy_client.search_export(type='ticket', status_less_than='solved'):\n",
    "    case_count=case_count+1\n",
    "print (\"Currently open Case count: \" + str(case_count))"
   ]
  },
  {
   "cell_type": "code",
   "execution_count": 164,
   "metadata": {},
   "outputs": [],
   "source": [
    "old_date = dt.datetime.now() - dt.timedelta(days=2)\n",
    "#print (yesterday.date())\n",
    "today_date=dt.datetime.now()"
   ]
  },
  {
   "cell_type": "code",
   "execution_count": 165,
   "metadata": {},
   "outputs": [
    {
     "name": "stdout",
     "output_type": "stream",
     "text": [
      "2022-10-13 case count : 6\n"
     ]
    }
   ],
   "source": [
    "day_count=0\n",
    "for ticket in zenpy_client.search_export(type='ticket', created = today_date.date()):\n",
    "    day_count=day_count+1\n",
    "print (str(today_date.date()) + \" case count : \"+ str(day_count))"
   ]
  },
  {
   "cell_type": "code",
   "execution_count": 176,
   "metadata": {},
   "outputs": [
    {
     "name": "stdout",
     "output_type": "stream",
     "text": [
      "Case count in last 2 days: 21\n"
     ]
    }
   ],
   "source": [
    "a=zenpy_client.search(created_between=[old_date,today_date], type='ticket')\n",
    "print('Case count in last 2 days: '+ str(a.count))"
   ]
  },
  {
   "cell_type": "code",
   "execution_count": 178,
   "metadata": {},
   "outputs": [
    {
     "name": "stderr",
     "output_type": "stream",
     "text": [
      "Non timezone-aware datetime object passed to IncrementalEndpoint. The Zendesk API expects UTC time, if this is not the case results will be incorrect!\n"
     ]
    },
    {
     "name": "stdout",
     "output_type": "stream",
     "text": [
      "4428\n"
     ]
    }
   ],
   "source": [
    "result_generator = zenpy_client.tickets.incremental(start_time=yesterday)\n",
    "for ticket in result_generator:\n",
    "    print (ticket.id)\n",
    "    break"
   ]
  },
  {
   "cell_type": "code",
   "execution_count": 180,
   "metadata": {},
   "outputs": [],
   "source": [
    "#http://docs.facetoe.com.au/_modules/zenpy/lib/api_objects.html#Ticket\n",
    "#Object details "
   ]
  },
  {
   "cell_type": "code",
   "execution_count": 177,
   "metadata": {},
   "outputs": [
    {
     "data": {
      "text/plain": [
       "4428"
      ]
     },
     "execution_count": 177,
     "metadata": {},
     "output_type": "execute_result"
    }
   ],
   "source": [
    "ticket.id"
   ]
  },
  {
   "cell_type": "code",
   "execution_count": 169,
   "metadata": {},
   "outputs": [
    {
     "data": {
      "text/plain": [
       "zenpy.lib.generator.ZendeskResultGenerator"
      ]
     },
     "execution_count": 169,
     "metadata": {},
     "output_type": "execute_result"
    }
   ],
   "source": [
    "type(result_generator)"
   ]
  },
  {
   "cell_type": "code",
   "execution_count": 170,
   "metadata": {},
   "outputs": [
    {
     "data": {
      "text/plain": [
       "zenpy.lib.api_objects.Ticket"
      ]
     },
     "execution_count": 170,
     "metadata": {},
     "output_type": "execute_result"
    }
   ],
   "source": [
    "type(ticket)"
   ]
  },
  {
   "cell_type": "code",
   "execution_count": 171,
   "metadata": {},
   "outputs": [
    {
     "data": {
      "text/plain": [
       "datetime.datetime(2022, 10, 10, 5, 1, 51, tzinfo=tzutc())"
      ]
     },
     "execution_count": 171,
     "metadata": {},
     "output_type": "execute_result"
    }
   ],
   "source": [
    "ticket.updated"
   ]
  },
  {
   "cell_type": "code",
   "execution_count": 172,
   "metadata": {},
   "outputs": [
    {
     "data": {
      "text/plain": [
       "'NV prod issues'"
      ]
     },
     "execution_count": 172,
     "metadata": {},
     "output_type": "execute_result"
    }
   ],
   "source": [
    "ticket.subject"
   ]
  },
  {
   "cell_type": "code",
   "execution_count": 173,
   "metadata": {},
   "outputs": [],
   "source": [
    "dic=type(ticket.to_dict())"
   ]
  },
  {
   "cell_type": "code",
   "execution_count": 174,
   "metadata": {},
   "outputs": [
    {
     "name": "stdout",
     "output_type": "stream",
     "text": [
      "<class 'pandas.core.frame.DataFrame'>\n",
      "RangeIndex: 1 entries, 0 to 0\n",
      "Data columns (total 46 columns):\n",
      " #   Column                            Non-Null Count  Dtype \n",
      "---  ------                            --------------  ----- \n",
      " 0   assignee_id                       1 non-null      int64 \n",
      " 1   brand_id                          1 non-null      int64 \n",
      " 2   collaborator_ids                  1 non-null      object\n",
      " 3   created_at                        1 non-null      object\n",
      " 4   custom_fields                     1 non-null      object\n",
      " 5   description                       1 non-null      object\n",
      " 6   due_at                            0 non-null      object\n",
      " 7   external_id                       0 non-null      object\n",
      " 8   fields                            1 non-null      object\n",
      " 9   forum_topic_id                    0 non-null      object\n",
      " 10  group_id                          1 non-null      int64 \n",
      " 11  has_incidents                     1 non-null      bool  \n",
      " 12  id                                1 non-null      int64 \n",
      " 13  organization_id                   1 non-null      int64 \n",
      " 14  priority                          1 non-null      object\n",
      " 15  problem_id                        0 non-null      object\n",
      " 16  raw_subject                       1 non-null      object\n",
      " 17  recipient                         0 non-null      object\n",
      " 18  requester_id                      1 non-null      int64 \n",
      " 19  sharing_agreement_ids             1 non-null      object\n",
      " 20  status                            1 non-null      object\n",
      " 21  subject                           1 non-null      object\n",
      " 22  submitter_id                      1 non-null      int64 \n",
      " 23  tags                              1 non-null      object\n",
      " 24  type                              1 non-null      object\n",
      " 25  updated_at                        1 non-null      object\n",
      " 26  url                               1 non-null      object\n",
      " 27  follower_ids                      1 non-null      object\n",
      " 28  email_cc_ids                      1 non-null      object\n",
      " 29  is_public                         1 non-null      bool  \n",
      " 30  followup_ids                      1 non-null      object\n",
      " 31  ticket_form_id                    1 non-null      int64 \n",
      " 32  allow_channelback                 1 non-null      bool  \n",
      " 33  allow_attachments                 1 non-null      bool  \n",
      " 34  generated_timestamp               1 non-null      int64 \n",
      " 35  satisfaction_rating.assignee_id   0 non-null      object\n",
      " 36  satisfaction_rating.created_at    0 non-null      object\n",
      " 37  satisfaction_rating.group_id      0 non-null      object\n",
      " 38  satisfaction_rating.id            0 non-null      object\n",
      " 39  satisfaction_rating.requester_id  0 non-null      object\n",
      " 40  satisfaction_rating.score         1 non-null      object\n",
      " 41  satisfaction_rating.ticket_id     0 non-null      object\n",
      " 42  satisfaction_rating.updated_at    0 non-null      object\n",
      " 43  satisfaction_rating.url           0 non-null      object\n",
      " 44  via.channel                       1 non-null      object\n",
      " 45  via.source.rel                    0 non-null      object\n",
      "dtypes: bool(4), int64(9), object(33)\n",
      "memory usage: 468.0+ bytes\n"
     ]
    }
   ],
   "source": [
    "from pandas import json_normalize\n",
    "j=json.loads(ticket.to_json())\n",
    "nycphil = json_normalize(data=j)\n",
    "nycphil.info()"
   ]
  },
  {
   "cell_type": "code",
   "execution_count": 175,
   "metadata": {},
   "outputs": [
    {
     "data": {
      "text/html": [
       "<div>\n",
       "<style scoped>\n",
       "    .dataframe tbody tr th:only-of-type {\n",
       "        vertical-align: middle;\n",
       "    }\n",
       "\n",
       "    .dataframe tbody tr th {\n",
       "        vertical-align: top;\n",
       "    }\n",
       "\n",
       "    .dataframe thead th {\n",
       "        text-align: right;\n",
       "    }\n",
       "</style>\n",
       "<table border=\"1\" class=\"dataframe\">\n",
       "  <thead>\n",
       "    <tr style=\"text-align: right;\">\n",
       "      <th></th>\n",
       "      <th>id</th>\n",
       "      <th>value</th>\n",
       "    </tr>\n",
       "  </thead>\n",
       "  <tbody>\n",
       "    <tr>\n",
       "      <th>0</th>\n",
       "      <td>360032342191</td>\n",
       "      <td>problem</td>\n",
       "    </tr>\n",
       "    <tr>\n",
       "      <th>1</th>\n",
       "      <td>360036034671</td>\n",
       "      <td>prod</td>\n",
       "    </tr>\n",
       "  </tbody>\n",
       "</table>\n",
       "</div>"
      ],
      "text/plain": [
       "             id    value\n",
       "0  360032342191  problem\n",
       "1  360036034671     prod"
      ]
     },
     "execution_count": 175,
     "metadata": {},
     "output_type": "execute_result"
    }
   ],
   "source": [
    "nycphil = json_normalize(data=j,record_path='custom_fields')\n",
    "nycphil.head(2)"
   ]
  },
  {
   "cell_type": "code",
   "execution_count": null,
   "metadata": {},
   "outputs": [],
   "source": []
  },
  {
   "cell_type": "code",
   "execution_count": null,
   "metadata": {},
   "outputs": [],
   "source": []
  }
 ],
 "metadata": {
  "kernelspec": {
   "display_name": "Python 3 (ipykernel)",
   "language": "python",
   "name": "python3"
  },
  "language_info": {
   "codemirror_mode": {
    "name": "ipython",
    "version": 3
   },
   "file_extension": ".py",
   "mimetype": "text/x-python",
   "name": "python",
   "nbconvert_exporter": "python",
   "pygments_lexer": "ipython3",
   "version": "3.9.14"
  }
 },
 "nbformat": 4,
 "nbformat_minor": 2
}
